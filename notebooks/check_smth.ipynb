{
 "cells": [
  {
   "cell_type": "code",
   "execution_count": 1,
   "metadata": {},
   "outputs": [],
   "source": [
    "from dotenv import load_dotenv\n",
    "import os\n",
    "from langchain_gigachat.chat_models import GigaChat"
   ]
  },
  {
   "cell_type": "code",
   "execution_count": 2,
   "metadata": {},
   "outputs": [],
   "source": [
    "# Загружаем переменные окружения из .env файла\n",
    "load_dotenv()\n",
    "\n",
    "# Получаем credentials из переменной окружения\n",
    "credentials = os.getenv('GIGACHAT_API_KEY_CORP') if os.getenv('GIGACHAT_API_KEY_CORP') else \\\n",
    "                                                    os.getenv('GIGACHAT_API_KEY')\n",
    "\n",
    "# Инициализируем GigaChat с использованием credentials из .env\n",
    "giga = GigaChat(\n",
    "    credentials=credentials, \n",
    "    verify_ssl_certs=False,\n",
    "    scope='GIGACHAT_API_CORP' if os.getenv('GIGACHAT_API_KEY_CORP') else 'GIGACHAT_API_PERS',\n",
    "    model='GigaChat-2-Max',\n",
    ")"
   ]
  },
  {
   "cell_type": "code",
   "execution_count": 3,
   "metadata": {},
   "outputs": [
    {
     "name": "stdout",
     "output_type": "stream",
     "text": [
      "content='Привет, мир! Чем займёмся?' additional_kwargs={} response_metadata={'token_usage': {'prompt_tokens': 16, 'completion_tokens': 11, 'total_tokens': 27, 'precached_prompt_tokens': 0}, 'model_name': 'GigaChat-2-Max:2.0.28.2', 'x_headers': {'x-request-id': '8ecf52a4-5bdf-402b-835e-9b4e6ea1259d', 'x-session-id': '8e54dd66-7fe1-4798-b4ad-e2bef7c7a713', 'x-client-id': None}, 'finish_reason': 'stop'} id='8ecf52a4-5bdf-402b-835e-9b4e6ea1259d' usage_metadata={'output_tokens': 11, 'input_tokens': 16, 'total_tokens': 27, 'input_token_details': {'cache_read': 0}}\n"
     ]
    }
   ],
   "source": [
    "print(giga.invoke(\"Hello, world!\"))"
   ]
  },
  {
   "cell_type": "code",
   "execution_count": null,
   "metadata": {},
   "outputs": [],
   "source": []
  }
 ],
 "metadata": {
  "kernelspec": {
   "display_name": "NewsBot 3.11",
   "language": "python",
   "name": "newsbot_311"
  },
  "language_info": {
   "codemirror_mode": {
    "name": "ipython",
    "version": 3
   },
   "file_extension": ".py",
   "mimetype": "text/x-python",
   "name": "python",
   "nbconvert_exporter": "python",
   "pygments_lexer": "ipython3",
   "version": "3.11.0"
  }
 },
 "nbformat": 4,
 "nbformat_minor": 2
}
